{
  "cells": [
    {
      "cell_type": "markdown",
      "id": "f2e00a27-64ef-4431-967e-940768fda8fa",
      "metadata": {
        "id": "f2e00a27-64ef-4431-967e-940768fda8fa"
      },
      "source": [
        "# Getting started with Mistral AI API"
      ]
    },
    {
      "cell_type": "code",
      "execution_count": 1,
      "id": "e0eb939e-a7e6-42d9-a7ce-c61444c5dc62",
      "metadata": {
        "id": "e0eb939e-a7e6-42d9-a7ce-c61444c5dc62",
        "outputId": "e0b1523b-3d26-477b-cde9-d734d0020412",
        "colab": {
          "base_uri": "https://localhost:8080/"
        }
      },
      "outputs": [
        {
          "output_type": "stream",
          "name": "stdout",
          "text": [
            "Collecting mistralai\n",
            "  Downloading mistralai-1.5.0-py3-none-any.whl.metadata (29 kB)\n",
            "Collecting eval-type-backport>=0.2.0 (from mistralai)\n",
            "  Downloading eval_type_backport-0.2.2-py3-none-any.whl.metadata (2.2 kB)\n",
            "Requirement already satisfied: httpx>=0.27.0 in /usr/local/lib/python3.11/dist-packages (from mistralai) (0.28.1)\n",
            "Collecting jsonpath-python>=1.0.6 (from mistralai)\n",
            "  Downloading jsonpath_python-1.0.6-py3-none-any.whl.metadata (12 kB)\n",
            "Requirement already satisfied: pydantic>=2.9.0 in /usr/local/lib/python3.11/dist-packages (from mistralai) (2.10.6)\n",
            "Requirement already satisfied: python-dateutil>=2.8.2 in /usr/local/lib/python3.11/dist-packages (from mistralai) (2.8.2)\n",
            "Collecting typing-inspect>=0.9.0 (from mistralai)\n",
            "  Downloading typing_inspect-0.9.0-py3-none-any.whl.metadata (1.5 kB)\n",
            "Requirement already satisfied: anyio in /usr/local/lib/python3.11/dist-packages (from httpx>=0.27.0->mistralai) (3.7.1)\n",
            "Requirement already satisfied: certifi in /usr/local/lib/python3.11/dist-packages (from httpx>=0.27.0->mistralai) (2025.1.31)\n",
            "Requirement already satisfied: httpcore==1.* in /usr/local/lib/python3.11/dist-packages (from httpx>=0.27.0->mistralai) (1.0.7)\n",
            "Requirement already satisfied: idna in /usr/local/lib/python3.11/dist-packages (from httpx>=0.27.0->mistralai) (3.10)\n",
            "Requirement already satisfied: h11<0.15,>=0.13 in /usr/local/lib/python3.11/dist-packages (from httpcore==1.*->httpx>=0.27.0->mistralai) (0.14.0)\n",
            "Requirement already satisfied: annotated-types>=0.6.0 in /usr/local/lib/python3.11/dist-packages (from pydantic>=2.9.0->mistralai) (0.7.0)\n",
            "Requirement already satisfied: pydantic-core==2.27.2 in /usr/local/lib/python3.11/dist-packages (from pydantic>=2.9.0->mistralai) (2.27.2)\n",
            "Requirement already satisfied: typing-extensions>=4.12.2 in /usr/local/lib/python3.11/dist-packages (from pydantic>=2.9.0->mistralai) (4.12.2)\n",
            "Requirement already satisfied: six>=1.5 in /usr/local/lib/python3.11/dist-packages (from python-dateutil>=2.8.2->mistralai) (1.17.0)\n",
            "Collecting mypy-extensions>=0.3.0 (from typing-inspect>=0.9.0->mistralai)\n",
            "  Downloading mypy_extensions-1.0.0-py3-none-any.whl.metadata (1.1 kB)\n",
            "Requirement already satisfied: sniffio>=1.1 in /usr/local/lib/python3.11/dist-packages (from anyio->httpx>=0.27.0->mistralai) (1.3.1)\n",
            "Downloading mistralai-1.5.0-py3-none-any.whl (271 kB)\n",
            "\u001b[2K   \u001b[90m━━━━━━━━━━━━━━━━━━━━━━━━━━━━━━━━━━━━━━━━\u001b[0m \u001b[32m271.6/271.6 kB\u001b[0m \u001b[31m5.0 MB/s\u001b[0m eta \u001b[36m0:00:00\u001b[0m\n",
            "\u001b[?25hDownloading eval_type_backport-0.2.2-py3-none-any.whl (5.8 kB)\n",
            "Downloading jsonpath_python-1.0.6-py3-none-any.whl (7.6 kB)\n",
            "Downloading typing_inspect-0.9.0-py3-none-any.whl (8.8 kB)\n",
            "Downloading mypy_extensions-1.0.0-py3-none-any.whl (4.7 kB)\n",
            "Installing collected packages: mypy-extensions, jsonpath-python, eval-type-backport, typing-inspect, mistralai\n",
            "Successfully installed eval-type-backport-0.2.2 jsonpath-python-1.0.6 mistralai-1.5.0 mypy-extensions-1.0.0 typing-inspect-0.9.0\n"
          ]
        }
      ],
      "source": [
        "! pip install mistralai"
      ]
    },
    {
      "cell_type": "markdown",
      "id": "5b630861-a95e-4925-8525-d9461d3627ea",
      "metadata": {
        "id": "5b630861-a95e-4925-8525-d9461d3627ea"
      },
      "source": [
        "Our API is currently available through [La Plateforme](https://console.mistral.ai/). You need to activate payments on your account to enable your API keys. After a few moments, you will be able to use our `chat` endpoint:"
      ]
    },
    {
      "cell_type": "code",
      "execution_count": 5,
      "id": "2868793c-9065-459a-9a8e-214c31b98f1d",
      "metadata": {
        "id": "2868793c-9065-459a-9a8e-214c31b98f1d"
      },
      "outputs": [],
      "source": [
        "import os\n",
        "from mistralai import Mistral\n"
      ]
    },
    {
      "cell_type": "code",
      "execution_count": 8,
      "id": "nBnI4U-ClTYM",
      "metadata": {
        "id": "nBnI4U-ClTYM"
      },
      "outputs": [],
      "source": [
        "# Export the API key to the environment\n",
        "os.environ[\"U5QUXeaOzkeyBeQFkSKX23Qh5AQGfnni\"] =api_key"
      ]
    },
    {
      "cell_type": "code",
      "source": [
        "model = \"mistral-large-latest\"\n",
        "\n",
        "client = Mistral(api_key=api_key)\n",
        "text = input(\"Enter your text: \")\n",
        "chat_response = client.chat.complete(\n",
        "    model= model,\n",
        "    messages = [\n",
        "        {\n",
        "            \"role\": \"user\",\n",
        "            \"content\": f\"summarize the following text concisely while preserving the key ideas and essential details. Ensure the summary is clear, coherent, and does not exceed [word limit or percentage] of the original text {text}\",\n",
        "        },\n",
        "    ]\n",
        ")"
      ],
      "metadata": {
        "id": "QUMH4CI6sRKc",
        "outputId": "1cf105d2-ef58-4bc4-b67d-c4a354055463",
        "colab": {
          "base_uri": "https://localhost:8080/"
        }
      },
      "id": "QUMH4CI6sRKc",
      "execution_count": 16,
      "outputs": [
        {
          "name": "stdout",
          "output_type": "stream",
          "text": [
            "Enter your text: أهمية التعليم في بناء المجتمعات  يُعتبر التعليم أحد الركائز الأساسية التي تعتمد عليها المجتمعات للنهوض والتقدم. فهو ليس مجرد وسيلة لاكتساب المعرفة، بل هو أداة فعّالة لتحقيق التنمية المستدامة، والحد من الفقر، وتعزيز الوعي والثقافة.  دور التعليم في التنمية الاقتصادية  يساهم التعليم في رفع مستوى الإنتاجية لدى الأفراد، مما يؤدي إلى تحسين الاقتصاد الوطني. فالأفراد المتعلمون يمتلكون المهارات والمعرفة اللازمة لشغل وظائف ذات قيمة مضافة، مما ينعكس إيجابيًا على معدلات النمو الاقتصادي والاستقرار المالي للمجتمع.  التعليم والحد من الفقر  يعد التعليم أحد أكثر الوسائل فعالية لمكافحة الفقر، حيث يوفر للأفراد فرصًا أفضل للعمل ويحسن من مستوى دخلهم. فالأشخاص الذين يتمتعون بتعليم جيد يكونون أكثر قدرة على اتخاذ قرارات مالية سليمة، مما يقلل من مخاطر الوقوع في الفقر.  تعزيز الوعي والثقافة  يساهم التعليم في نشر الوعي والثقافة داخل المجتمع، حيث يعمل على توسيع آفاق الأفراد وتنمية قدراتهم النقدية. فالمجتمعات المتعلمة تكون أكثر قدرة على التكيف مع التغيرات السريعة في العالم، كما تعزز قيم التسامح والتعايش المشترك.  التعليم والمساواة الاجتماعية  يعد التعليم أداة قوية لتعزيز المساواة بين الجنسين وتحقيق العدالة الاجتماعية. فمن خلال توفير فرص تعليمية متكافئة للجميع، يمكن الحد من التفاوت الطبقي وتحقيق بيئة أكثر إنصافًا وعدلاً.  الاستثمار في التعليم  إن الاستثمار في التعليم هو استثمار في مستقبل الأمة. فالدول التي تولي التعليم اهتمامًا خاصًا تتمكن من تحقيق تقدم ملحوظ في شتى المجالات، بدءًا من التكنولوجيا والعلوم، وصولًا إلى التنمية الاجتماعية والاقتصادية.  الخاتمة  التعليم هو المفتاح الرئيسي لتقدم المجتمعات، ومن خلال توفير بيئة تعليمية جيدة ومناسبة للجميع، يمكن تحقيق مستقبل أكثر إشراقًا. لذلك، يجب على الحكومات والمجتمعات العمل معًا لضمان وصول التعليم إلى الجميع وتحسين جودته بشكل مستمر.\n"
          ]
        }
      ]
    },
    {
      "cell_type": "code",
      "source": [
        "print(chat_response.choices[0].message.content)"
      ],
      "metadata": {
        "id": "xeRBJ0miup5B",
        "outputId": "5ebbac35-5834-4062-f037-0cfcffefb8ac",
        "colab": {
          "base_uri": "https://localhost:8080/"
        }
      },
      "id": "xeRBJ0miup5B",
      "execution_count": 20,
      "outputs": [
        {
          "output_type": "stream",
          "name": "stdout",
          "text": [
            "التعليم هو ركيزة أساسية لنهوض وتقدم المجتمعات، لا يقتصر دوره على اكتساب المعرفة فحسب، بل يمثل أداة فعالة لتحقيق التنمية المستدامة والحد من الفقر وتعزيز الوعي والثقافة. يساهم التعليم في رفع الإنتاجية الفردية، مما يعزز الاقتصاد الوطني. كما يعد وسيلة فعالة لمكافحة الفقر عبر توفير فرص عمل أفضل وتحسين مستوى الدخل. ينشر التعليم الوعي والثقافة، مما يعزز التسامح والتعايش ويساعد المجتمعات على التكيف مع التغيرات السريعة. يلعب التعليم دورًا كبيرًا في تعزيز المساواة الاجتماعية والعدالة من خلال توفير فرص تعليمية متكافئة. الاستثمار في التعليم يعني استثمار في مستقبل الأمة، مما يسهم في التقدم في مختلف المجالات. يجب على الحكومات والمجتمعات العمل معًا لضمان وصول التعليم إلى الجميع وتحسين جودته باستمرار.\n"
          ]
        }
      ]
    },
    {
      "cell_type": "code",
      "source": [
        "len(chat_response.choices[0].message.content)"
      ],
      "metadata": {
        "id": "lzYQbzd0vEg-",
        "outputId": "a1b588c4-1608-497b-d6b6-e7b2e55b9485",
        "colab": {
          "base_uri": "https://localhost:8080/"
        }
      },
      "id": "lzYQbzd0vEg-",
      "execution_count": 19,
      "outputs": [
        {
          "output_type": "execute_result",
          "data": {
            "text/plain": [
              "694"
            ]
          },
          "metadata": {},
          "execution_count": 19
        }
      ]
    },
    {
      "cell_type": "markdown",
      "source": [
        "# for english"
      ],
      "metadata": {
        "id": "cfh5usQ2zCoM"
      },
      "id": "cfh5usQ2zCoM"
    },
    {
      "cell_type": "code",
      "source": [
        "model = \"mistral-large-latest\"\n",
        "\n",
        "client = Mistral(api_key=api_key)\n",
        "text = input(\"Enter your text: \")\n",
        "chat_response = client.chat.complete(\n",
        "    model= model,\n",
        "    messages = [\n",
        "        {\n",
        "            \"role\": \"user\",\n",
        "            \"content\": f\"summarize the following text concisely while preserving the key ideas and essential details. Ensure the summary is clear, coherent, and does not exceed [word limit or percentage] of the original text {text}\",\n",
        "        },\n",
        "    ]\n",
        ")"
      ],
      "metadata": {
        "id": "cbKuh_hWzCLG",
        "outputId": "3985108b-e97b-4385-ec3d-17890b653d70",
        "colab": {
          "base_uri": "https://localhost:8080/"
        }
      },
      "id": "cbKuh_hWzCLG",
      "execution_count": 54,
      "outputs": [
        {
          "name": "stdout",
          "output_type": "stream",
          "text": [
            "Enter your text: أهمية التعليم في بناء المجتمعات  يُعتبر التعليم أحد الركائز الأساسية التي تعتمد عليها المجتمعات للنهوض والتقدم. فهو ليس مجرد وسيلة لاكتساب المعرفة، بل هو أداة فعّالة لتحقيق التنمية المستدامة، والحد من الفقر، وتعزيز الوعي والثقافة.  دور التعليم في التنمية الاقتصادية  يساهم التعليم في رفع مستوى الإنتاجية لدى الأفراد، مما يؤدي إلى تحسين الاقتصاد الوطني. فالأفراد المتعلمون يمتلكون المهارات والمعرفة اللازمة لشغل وظائف ذات قيمة مضافة، مما ينعكس إيجابيًا على معدلات النمو الاقتصادي والاستقرار المالي للمجتمع.  التعليم والحد من الفقر  يعد التعليم أحد أكثر الوسائل فعالية لمكافحة الفقر، حيث يوفر للأفراد فرصًا أفضل للعمل ويحسن من مستوى دخلهم. فالأشخاص الذين يتمتعون بتعليم جيد يكونون أكثر قدرة على اتخاذ قرارات مالية سليمة، مما يقلل من مخاطر الوقوع في الفقر.  تعزيز الوعي والثقافة  يساهم التعليم في نشر الوعي والثقافة داخل المجتمع، حيث يعمل على توسيع آفاق الأفراد وتنمية قدراتهم النقدية. فالمجتمعات المتعلمة تكون أكثر قدرة على التكيف مع التغيرات السريعة في العالم، كما تعزز قيم التسامح والتعايش المشترك.  التعليم والمساواة الاجتماعية  يعد التعليم أداة قوية لتعزيز المساواة بين الجنسين وتحقيق العدالة الاجتماعية. فمن خلال توفير فرص تعليمية متكافئة للجميع، يمكن الحد من التفاوت الطبقي وتحقيق بيئة أكثر إنصافًا وعدلاً.  الاستثمار في التعليم  إن الاستثمار في التعليم هو استثمار في مستقبل الأمة. فالدول التي تولي التعليم اهتمامًا خاصًا تتمكن من تحقيق تقدم ملحوظ في شتى المجالات، بدءًا من التكنولوجيا والعلوم، وصولًا إلى التنمية الاجتماعية والاقتصادية.  الخاتمة  التعليم هو المفتاح الرئيسي لتقدم المجتمعات، ومن خلال توفير بيئة تعليمية جيدة ومناسبة للجميع، يمكن تحقيق مستقبل أكثر إشراقًا. لذلك، يجب على الحكومات والمجتمعات العمل معًا لضمان وصول التعليم إلى الجميع وتحسين جودته بشكل مستمر\n"
          ]
        }
      ]
    },
    {
      "cell_type": "code",
      "source": [
        "len(text)"
      ],
      "metadata": {
        "id": "VKT1F_wVzM-3",
        "outputId": "0869c8b2-b329-4680-a14f-2c4b9fa4b71f",
        "colab": {
          "base_uri": "https://localhost:8080/"
        }
      },
      "id": "VKT1F_wVzM-3",
      "execution_count": 49,
      "outputs": [
        {
          "output_type": "execute_result",
          "data": {
            "text/plain": [
              "1676"
            ]
          },
          "metadata": {},
          "execution_count": 49
        }
      ]
    },
    {
      "cell_type": "code",
      "source": [
        "len(chat_response.choices[0].message.content)"
      ],
      "metadata": {
        "id": "boYsjYr2zLSk",
        "outputId": "c09d7ef0-b203-4e95-9a40-f9bb46285294",
        "colab": {
          "base_uri": "https://localhost:8080/"
        }
      },
      "id": "boYsjYr2zLSk",
      "execution_count": 60,
      "outputs": [
        {
          "output_type": "execute_result",
          "data": {
            "text/plain": [
              "292"
            ]
          },
          "metadata": {},
          "execution_count": 60
        }
      ]
    },
    {
      "cell_type": "code",
      "source": [
        "print (chat_response.choices[0].message.content)"
      ],
      "metadata": {
        "id": "xfWeOyyrzQzp",
        "outputId": "e516755f-1c40-4d20-822a-e0a9ec37b11b",
        "colab": {
          "base_uri": "https://localhost:8080/"
        }
      },
      "id": "xfWeOyyrzQzp",
      "execution_count": 59,
      "outputs": [
        {
          "output_type": "stream",
          "name": "stdout",
          "text": [
            "التعليم هو ركيزة أساسية لنهوض وتقدم المجتمعات. يساهم في التنمية المستدامة، رفع الإنتاجية، تحسين الاقتصاد، ومكافحة الفقر. يعزز الوعي والثقافة، ويدعم المساواة الاجتماعية والعدالة. الاستثمار في التعليم هو استثمار في مستقبل الأمة، ومن خلال توفير بيئة تعليمية جيدة، يمكن تحقيق مستقبل أكثر إشراقًا.\n"
          ]
        }
      ]
    },
    {
      "cell_type": "markdown",
      "source": [
        "# for english"
      ],
      "metadata": {
        "id": "DJmplRpw4M3a"
      },
      "id": "DJmplRpw4M3a"
    },
    {
      "cell_type": "code",
      "source": [
        "model = \"mistral-large-latest\"\n",
        "\n",
        "client = Mistral(api_key=api_key)\n",
        "text = input(\"Enter your text: \")\n",
        "chat_response = client.chat.complete(\n",
        "    model= model,\n",
        "    messages = [\n",
        "        {\n",
        "            \"role\": \"user\",\n",
        "            \"content\": f\"summarize the following text concisely while preserving the key ideas and essential details. Ensure the summary is clear, coherent, and does not exceed [word limit or percentage] of the original text {text}\",\n",
        "        },\n",
        "    ]\n",
        ")"
      ],
      "metadata": {
        "id": "f-dOwSZ54Pv0",
        "outputId": "46270d76-482d-48d1-a4c5-d4ae0310a6bd",
        "colab": {
          "base_uri": "https://localhost:8080/"
        }
      },
      "id": "f-dOwSZ54Pv0",
      "execution_count": 63,
      "outputs": [
        {
          "name": "stdout",
          "output_type": "stream",
          "text": [
            "Enter your text: The Importance of Education in Society  Education is the cornerstone of any thriving society. It serves as the foundation upon which individuals build their knowledge, skills, and critical thinking abilities. Through education, people gain the necessary tools to contribute effectively to their communities and drive progress in various fields.  Education and Economic Growth  One of the most significant benefits of education is its impact on economic development. Educated individuals are more likely to secure well-paying jobs, leading to improved living standards and economic stability. Nations with higher literacy rates tend to experience greater economic growth and innovation, as an educated workforce is essential for technological advancements and entrepreneurship.  Social Development and Equality  Education fosters social inclusion and equality by providing opportunities for people of all backgrounds. It promotes awareness of social issues, encourages diversity, and helps bridge the gap between different socioeconomic groups. Furthermore, education empowers individuals to advocate for their rights, leading to a more just and equitable society.  Personal Growth and Critical Thinking  Beyond professional benefits, education plays a crucial role in personal development. It nurtures critical thinking skills, creativity, and problem-solving abilities. Educated individuals are better equipped to make informed decisions, analyze situations objectively, and engage in meaningful discussions that contribute to societal progress.  Health and Well-being  Education has a direct impact on health and well-being. Studies show that educated individuals tend to lead healthier lifestyles, make better healthcare decisions, and have increased awareness of hygiene and disease prevention. Additionally, education helps reduce child mortality rates and improves maternal health by providing access to essential knowledge and resources.  Conclusion  Education is a powerful tool that transforms individuals and societies. It fosters economic growth, promotes social equality, enhances critical thinking, and improves overall well-being. Investing in education is investing in a better future for individuals and the world at large. Governments, institutions, and communities must prioritize access to quality education to ensure a prosperous and equitable society for future generations.\n"
          ]
        }
      ]
    },
    {
      "cell_type": "code",
      "source": [
        "len(text)"
      ],
      "metadata": {
        "id": "1_pdqLA54gXI",
        "outputId": "2c3fbdc6-43d8-4f98-fa5a-0fee1409ebef",
        "colab": {
          "base_uri": "https://localhost:8080/"
        }
      },
      "id": "1_pdqLA54gXI",
      "execution_count": 65,
      "outputs": [
        {
          "output_type": "execute_result",
          "data": {
            "text/plain": [
              "2395"
            ]
          },
          "metadata": {},
          "execution_count": 65
        }
      ]
    },
    {
      "cell_type": "code",
      "source": [
        "len(chat_response.choices[0].message.content)"
      ],
      "metadata": {
        "id": "p9Q-Tqhp4Xu3",
        "outputId": "9f658009-52f9-4e72-aa4f-0ae923a53bc8",
        "colab": {
          "base_uri": "https://localhost:8080/"
        }
      },
      "id": "p9Q-Tqhp4Xu3",
      "execution_count": 64,
      "outputs": [
        {
          "output_type": "execute_result",
          "data": {
            "text/plain": [
              "615"
            ]
          },
          "metadata": {},
          "execution_count": 64
        }
      ]
    },
    {
      "cell_type": "code",
      "source": [
        "print (chat_response.choices[0].message.content)"
      ],
      "metadata": {
        "id": "AzdXyesu4kwM",
        "outputId": "ff795b84-b113-4fd7-9204-997c5986760b",
        "colab": {
          "base_uri": "https://localhost:8080/"
        }
      },
      "id": "AzdXyesu4kwM",
      "execution_count": 67,
      "outputs": [
        {
          "output_type": "stream",
          "name": "stdout",
          "text": [
            "**Summary (66/150 words, 44% of original):**\n",
            "\n",
            "Education is vital for societal progress. It drives economic growth by creating a skilled workforce that fosters innovation and technological advancements. Socially, education promotes inclusion, equality, and awareness, empowering individuals to advocate for their rights. It also enhances personal growth, critical thinking, and decision-making skills. Moreover, education improves health and well-being through informed lifestyle choices and disease prevention. To ensure a prosperous future, governments and institutions must prioritize access to quality education.\n"
          ]
        }
      ]
    },
    {
      "cell_type": "code",
      "source": [],
      "metadata": {
        "id": "qPKmqm914fES"
      },
      "id": "qPKmqm914fES",
      "execution_count": null,
      "outputs": []
    },
    {
      "cell_type": "markdown",
      "source": [
        "# with streaming"
      ],
      "metadata": {
        "id": "tn-4ubT7wuOk"
      },
      "id": "tn-4ubT7wuOk"
    },
    {
      "cell_type": "code",
      "source": [
        "import os\n",
        "from mistralai import Mistral\n",
        "\n",
        "model = \"mistral-large-latest\"\n",
        "\n",
        "client = Mistral(api_key=api_key)\n",
        "\n",
        "text = input(\"Enter your text: \")\n",
        "\n",
        "stream_response = client.chat.stream(\n",
        "    model = model,\n",
        "    messages = [\n",
        "        {\n",
        "            \"role\": \"user\",\n",
        "            \"content\": f\"summarize the following text concisely while preserving the key ideas and essential details. Ensure the summary is clear, coherent, and does not exceed [word limit or percentage] of the original text {text}\",\n",
        "        },\n",
        "    ]\n",
        ")\n",
        "\n"
      ],
      "metadata": {
        "id": "J_F7iyIVwttl",
        "outputId": "54b82a6e-27c0-407a-99be-b0618f49196b",
        "colab": {
          "base_uri": "https://localhost:8080/"
        }
      },
      "id": "J_F7iyIVwttl",
      "execution_count": 22,
      "outputs": [
        {
          "name": "stdout",
          "output_type": "stream",
          "text": [
            "Enter your text: أهمية التعليم في بناء المجتمعات  يُعتبر التعليم أحد الركائز الأساسية التي تعتمد عليها المجتمعات للنهوض والتقدم. فهو ليس مجرد وسيلة لاكتساب المعرفة، بل هو أداة فعّالة لتحقيق التنمية المستدامة، والحد من الفقر، وتعزيز الوعي والثقافة.  دور التعليم في التنمية الاقتصادية  يساهم التعليم في رفع مستوى الإنتاجية لدى الأفراد، مما يؤدي إلى تحسين الاقتصاد الوطني. فالأفراد المتعلمون يمتلكون المهارات والمعرفة اللازمة لشغل وظائف ذات قيمة مضافة، مما ينعكس إيجابيًا على معدلات النمو الاقتصادي والاستقرار المالي للمجتمع.  التعليم والحد من الفقر  يعد التعليم أحد أكثر الوسائل فعالية لمكافحة الفقر، حيث يوفر للأفراد فرصًا أفضل للعمل ويحسن من مستوى دخلهم. فالأشخاص الذين يتمتعون بتعليم جيد يكونون أكثر قدرة على اتخاذ قرارات مالية سليمة، مما يقلل من مخاطر الوقوع في الفقر.  تعزيز الوعي والثقافة  يساهم التعليم في نشر الوعي والثقافة داخل المجتمع، حيث يعمل على توسيع آفاق الأفراد وتنمية قدراتهم النقدية. فالمجتمعات المتعلمة تكون أكثر قدرة على التكيف مع التغيرات السريعة في العالم، كما تعزز قيم التسامح والتعايش المشترك.  التعليم والمساواة الاجتماعية  يعد التعليم أداة قوية لتعزيز المساواة بين الجنسين وتحقيق العدالة الاجتماعية. فمن خلال توفير فرص تعليمية متكافئة للجميع، يمكن الحد من التفاوت الطبقي وتحقيق بيئة أكثر إنصافًا وعدلاً.  الاستثمار في التعليم  إن الاستثمار في التعليم هو استثمار في مستقبل الأمة. فالدول التي تولي التعليم اهتمامًا خاصًا تتمكن من تحقيق تقدم ملحوظ في شتى المجالات، بدءًا من التكنولوجيا والعلوم، وصولًا إلى التنمية الاجتماعية والاقتصادية.  الخاتمة  التعليم هو المفتاح الرئيسي لتقدم المجتمعات، ومن خلال توفير بيئة تعليمية جيدة ومناسبة للجميع، يمكن تحقيق مستقبل أكثر إشراقًا. لذلك، يجب على الحكومات والمجتمعات العمل معًا لضمان وصول التعليم إلى الجميع وتحسين جودته بشكل مستمر.\n"
          ]
        }
      ]
    },
    {
      "cell_type": "code",
      "source": [],
      "metadata": {
        "id": "XSjajFaixgZ9"
      },
      "id": "XSjajFaixgZ9",
      "execution_count": null,
      "outputs": []
    },
    {
      "cell_type": "code",
      "source": [],
      "metadata": {
        "id": "82J22TrpxgWs"
      },
      "id": "82J22TrpxgWs",
      "execution_count": null,
      "outputs": []
    },
    {
      "cell_type": "markdown",
      "source": [
        "# before promit"
      ],
      "metadata": {
        "id": "C1guxOySuqVG"
      },
      "id": "C1guxOySuqVG"
    },
    {
      "cell_type": "code",
      "source": [
        "print(chat_response.choices[0].message.content)"
      ],
      "metadata": {
        "id": "2w-jFMmzsYZb",
        "outputId": "5f339c6d-4c8d-4ce1-d046-a28a4c36f4ac",
        "colab": {
          "base_uri": "https://localhost:8080/"
        }
      },
      "id": "2w-jFMmzsYZb",
      "execution_count": 12,
      "outputs": [
        {
          "output_type": "stream",
          "name": "stdout",
          "text": [
            "التعليم يُعتبر أحد الركائز الأساسية لنهوض وتقدم المجتمعات، وليس مجرد وسيلة لاكتساب المعرفة، بل أداة فعالة لتحقيق التنمية المستدامة، والحد من الفقر، وتعزيز الوعي والثقافة.\n",
            "\n",
            "**دور التعليم في التنمية الاقتصادية:**\n",
            "- يساهم التعليم في رفع مستوى الإنتاجية لدى الأفراد، مما يؤدي إلى تحسين الاقتصاد الوطني.\n",
            "- الأفراد المتعلمون يمتلكون المهارات والمعرفة اللازمة لشغل وظائف ذات قيمة مضافة، مما ينعكس إيجابيًا على معدلات النمو الاقتصادي والاستقرار المالي للمجتمع.\n",
            "\n",
            "**التعليم والحد من الفقر:**\n",
            "- التعليم يوفر للأفراد فرصًا أفضل للعمل ويحسن من مستوى دخلهم.\n",
            "- الأشخاص المتعلمون أكثر قدرة على اتخاذ قرارات مالية سليمة، مما يقلل من مخاطر الوقوع في الفقر.\n",
            "\n",
            "**تعزيز الوعي والثقافة:**\n",
            "- التعليم يساهم في نشر الوعي والثقافة، ويعمل على توسيع آفاق الأفراد وتنمية قدراتهم النقدية.\n",
            "- المجتمعات المتعلمة أكثر قدرة على التكيف مع التغيرات السريعة في العالم، وتعزز قيم التسامح والتعايش المشترك.\n",
            "\n",
            "**التعليم والمساواة الاجتماعية:**\n",
            "- التعليم أداة قوية لتعزيز المساواة بين الجنسين وتحقيق العدالة الاجتماعية.\n",
            "- من خلال توفير فرص تعليمية متكافئة للجميع، يمكن الحد من التفاوت الطبقي وتحقيق بيئة أكثر إنصافًا وعدلاً.\n",
            "\n",
            "**الاستثمار في التعليم:**\n",
            "- الاستثمار في التعليم هو استثمار في مستقبل الأمة.\n",
            "- الدول التي تولي التعليم اهتمامًا خاصًا تتمكن من تحقيق تقدم ملحوظ في مختلف المجالات، مثل التكنولوجيا والعلوم، والتنمية الاجتماعية والاقتصادية.\n",
            "\n",
            "**الخاتمة:**\n",
            "- التعليم هو المفتاح الرئيسي لتقدم المجتمعات.\n",
            "- من خلال توفير بيئة تعليمية جيدة ومناسبة للجميع، يمكن تحقيق مستقبل أكثر إشراقًا.\n",
            "- يجب على الحكومات والمجتمعات العمل معًا لضمان وصول التعليم إلى الجميع وتحسين جودته بشكل مستمر.\n"
          ]
        }
      ]
    },
    {
      "cell_type": "code",
      "source": [
        "len(chat_response.choices[0].message.content)"
      ],
      "metadata": {
        "id": "raK2mtsot5xV",
        "outputId": "7c709aa0-c069-4329-ab9b-03848829fd12",
        "colab": {
          "base_uri": "https://localhost:8080/"
        }
      },
      "id": "raK2mtsot5xV",
      "execution_count": 13,
      "outputs": [
        {
          "output_type": "execute_result",
          "data": {
            "text/plain": [
              "1541"
            ]
          },
          "metadata": {},
          "execution_count": 13
        }
      ]
    },
    {
      "cell_type": "code",
      "source": [
        "text"
      ],
      "metadata": {
        "id": "AzU-E078t9nQ",
        "outputId": "944f27bd-a0e1-494d-fc9d-6810e800c440",
        "colab": {
          "base_uri": "https://localhost:8080/",
          "height": 71
        }
      },
      "id": "AzU-E078t9nQ",
      "execution_count": 14,
      "outputs": [
        {
          "output_type": "execute_result",
          "data": {
            "text/plain": [
              "'أهمية التعليم في بناء المجتمعات  يُعتبر التعليم أحد الركائز الأساسية التي تعتمد عليها المجتمعات للنهوض والتقدم. فهو ليس مجرد وسيلة لاكتساب المعرفة، بل هو أداة فعّالة لتحقيق التنمية المستدامة، والحد من الفقر، وتعزيز الوعي والثقافة.  دور التعليم في التنمية الاقتصادية  يساهم التعليم في رفع مستوى الإنتاجية لدى الأفراد، مما يؤدي إلى تحسين الاقتصاد الوطني. فالأفراد المتعلمون يمتلكون المهارات والمعرفة اللازمة لشغل وظائف ذات قيمة مضافة، مما ينعكس إيجابيًا على معدلات النمو الاقتصادي والاستقرار المالي للمجتمع.  التعليم والحد من الفقر  يعد التعليم أحد أكثر الوسائل فعالية لمكافحة الفقر، حيث يوفر للأفراد فرصًا أفضل للعمل ويحسن من مستوى دخلهم. فالأشخاص الذين يتمتعون بتعليم جيد يكونون أكثر قدرة على اتخاذ قرارات مالية سليمة، مما يقلل من مخاطر الوقوع في الفقر.  تعزيز الوعي والثقافة  يساهم التعليم في نشر الوعي والثقافة داخل المجتمع، حيث يعمل على توسيع آفاق الأفراد وتنمية قدراتهم النقدية. فالمجتمعات المتعلمة تكون أكثر قدرة على التكيف مع التغيرات السريعة في العالم، كما تعزز قيم التسامح والتعايش المشترك.  التعليم والمساواة الاجتماعية  يعد التعليم أداة قوية لتعزيز المساواة بين الجنسين وتحقيق العدالة الاجتماعية. فمن خلال توفير فرص تعليمية متكافئة للجميع، يمكن الحد من التفاوت الطبقي وتحقيق بيئة أكثر إنصافًا وعدلاً.  الاستثمار في التعليم  إن الاستثمار في التعليم هو استثمار في مستقبل الأمة. فالدول التي تولي التعليم اهتمامًا خاصًا تتمكن من تحقيق تقدم ملحوظ في شتى المجالات، بدءًا من التكنولوجيا والعلوم، وصولًا إلى التنمية الاجتماعية والاقتصادية.  الخاتمة  التعليم هو المفتاح الرئيسي لتقدم المجتمعات، ومن خلال توفير بيئة تعليمية جيدة ومناسبة للجميع، يمكن تحقيق مستقبل أكثر إشراقًا. لذلك، يجب على الحكومات والمجتمعات العمل معًا لضمان وصول التعليم إلى الجميع وتحسين جودته بشكل مستمر.'"
            ],
            "application/vnd.google.colaboratory.intrinsic+json": {
              "type": "string"
            }
          },
          "metadata": {},
          "execution_count": 14
        }
      ]
    },
    {
      "cell_type": "code",
      "source": [
        "len(text)"
      ],
      "metadata": {
        "id": "Hbhkxcw7uGIr",
        "outputId": "90016e6a-5dd2-46c1-df5a-607d4c372030",
        "colab": {
          "base_uri": "https://localhost:8080/"
        }
      },
      "id": "Hbhkxcw7uGIr",
      "execution_count": 15,
      "outputs": [
        {
          "output_type": "execute_result",
          "data": {
            "text/plain": [
              "1676"
            ]
          },
          "metadata": {},
          "execution_count": 15
        }
      ]
    },
    {
      "cell_type": "markdown",
      "source": [
        "# openrouter"
      ],
      "metadata": {
        "id": "XZJvUpIJ3lLe"
      },
      "id": "XZJvUpIJ3lLe"
    },
    {
      "cell_type": "code",
      "source": [
        "import requests\n",
        "import json\n",
        "\n",
        "response = requests.post(\n",
        "  url=\"https://openrouter.ai/api/v1/chat/completions\",\n",
        "  headers={\n",
        "    \"Authorization\": \"Bearer <OPENROUTER_API_KEY>\",\n",
        "    \"HTTP-Referer\": \"<YOUR_SITE_URL>\", # Optional. Site URL for rankings on openrouter.ai.\n",
        "    \"X-Title\": \"<YOUR_SITE_NAME>\", # Optional. Site title for rankings on openrouter.ai.\n",
        "  },\n",
        "  data=json.dumps({\n",
        "    \"model\": \"openai/gpt-4o\", # Optional\n",
        "    \"messages\": [\n",
        "      {\n",
        "        \"role\": \"user\",\n",
        "        \"content\": \"What is the meaning of life?\"\n",
        "      }\n",
        "    ]\n",
        "  })\n",
        ")\n"
      ],
      "metadata": {
        "id": "67AAcEI0uI11"
      },
      "id": "67AAcEI0uI11",
      "execution_count": 58,
      "outputs": []
    },
    {
      "cell_type": "code",
      "source": [
        "response"
      ],
      "metadata": {
        "id": "2teEGv0J3u-S",
        "outputId": "9ea8f236-c636-4d84-94b0-2dfbc91d157a",
        "colab": {
          "base_uri": "https://localhost:8080/"
        }
      },
      "id": "2teEGv0J3u-S",
      "execution_count": 57,
      "outputs": [
        {
          "output_type": "execute_result",
          "data": {
            "text/plain": [
              "<Response [401]>"
            ]
          },
          "metadata": {},
          "execution_count": 57
        }
      ]
    },
    {
      "cell_type": "markdown",
      "source": [
        "# using improvment Prometing"
      ],
      "metadata": {
        "id": "X4vJS_nV60Ct"
      },
      "id": "X4vJS_nV60Ct"
    },
    {
      "cell_type": "code",
      "source": [
        "model = \"mistral-large-latest\"\n",
        "\n",
        "client = Mistral(api_key=api_key)\n",
        "text = input(\"Enter your text: \")\n",
        "word_limit = 150  # Set the desired word limit or percentage here\n",
        "\n",
        "chat_response = client.chat.complete(\n",
        "    model=model,\n",
        "    messages=[\n",
        "        {\n",
        "            \"role\": \"user\",\n",
        "            \"content\": f\"Please summarize the following text concisely while preserving the key ideas and essential details. Ensure the summary is clear, coherent, and does not exceed {word_limit} words or {word_limit / len(text.split()) * 100}% of the original text's length. Focus on maintaining the central themes like the importance of education in societal progress, economic growth, poverty reduction, cultural awareness, social equality, and the need for investment in education. Here's the text:\\n{text}\",\n",
        "        },\n",
        "    ]\n",
        ")\n"
      ],
      "metadata": {
        "id": "apZ8FRZk66cB",
        "outputId": "cdd3eb1b-4320-4877-c0b2-54cabd1e40aa",
        "colab": {
          "base_uri": "https://localhost:8080/"
        }
      },
      "id": "apZ8FRZk66cB",
      "execution_count": 68,
      "outputs": [
        {
          "name": "stdout",
          "output_type": "stream",
          "text": [
            "Enter your text: أهمية التعليم في بناء المجتمعات  يُعتبر التعليم أحد الركائز الأساسية التي تعتمد عليها المجتمعات للنهوض والتقدم. فهو ليس مجرد وسيلة لاكتساب المعرفة، بل هو أداة فعّالة لتحقيق التنمية المستدامة، والحد من الفقر، وتعزيز الوعي والثقافة.  دور التعليم في التنمية الاقتصادية  يساهم التعليم في رفع مستوى الإنتاجية لدى الأفراد، مما يؤدي إلى تحسين الاقتصاد الوطني. فالأفراد المتعلمون يمتلكون المهارات والمعرفة اللازمة لشغل وظائف ذات قيمة مضافة، مما ينعكس إيجابيًا على معدلات النمو الاقتصادي والاستقرار المالي للمجتمع.  التعليم والحد من الفقر  يعد التعليم أحد أكثر الوسائل فعالية لمكافحة الفقر، حيث يوفر للأفراد فرصًا أفضل للعمل ويحسن من مستوى دخلهم. فالأشخاص الذين يتمتعون بتعليم جيد يكونون أكثر قدرة على اتخاذ قرارات مالية سليمة، مما يقلل من مخاطر الوقوع في الفقر.  تعزيز الوعي والثقافة  يساهم التعليم في نشر الوعي والثقافة داخل المجتمع، حيث يعمل على توسيع آفاق الأفراد وتنمية قدراتهم النقدية. فالمجتمعات المتعلمة تكون أكثر قدرة على التكيف مع التغيرات السريعة في العالم، كما تعزز قيم التسامح والتعايش المشترك.  التعليم والمساواة الاجتماعية  يعد التعليم أداة قوية لتعزيز المساواة بين الجنسين وتحقيق العدالة الاجتماعية. فمن خلال توفير فرص تعليمية متكافئة للجميع، يمكن الحد من التفاوت الطبقي وتحقيق بيئة أكثر إنصافًا وعدلاً.  الاستثمار في التعليم  إن الاستثمار في التعليم هو استثمار في مستقبل الأمة. فالدول التي تولي التعليم اهتمامًا خاصًا تتمكن من تحقيق تقدم ملحوظ في شتى المجالات، بدءًا من التكنولوجيا والعلوم، وصولًا إلى التنمية الاجتماعية والاقتصادية.  الخاتمة  التعليم هو المفتاح الرئيسي لتقدم المجتمعات، ومن خلال توفير بيئة تعليمية جيدة ومناسبة للجميع، يمكن تحقيق مستقبل أكثر إشراقًا. لذلك، يجب على الحكومات والمجتمعات العمل معًا لضمان وصول التعليم إلى الجميع وتحسين جودته بشكل مستمر.\n"
          ]
        }
      ]
    },
    {
      "cell_type": "code",
      "source": [
        "len(text)"
      ],
      "metadata": {
        "id": "Lk62QZ_86_ji",
        "outputId": "e81dede6-1a7a-449e-9fdb-a64284609ce9",
        "colab": {
          "base_uri": "https://localhost:8080/"
        }
      },
      "id": "Lk62QZ_86_ji",
      "execution_count": 69,
      "outputs": [
        {
          "output_type": "execute_result",
          "data": {
            "text/plain": [
              "1676"
            ]
          },
          "metadata": {},
          "execution_count": 69
        }
      ]
    },
    {
      "cell_type": "code",
      "source": [
        "chat_response.choices[0].message.content"
      ],
      "metadata": {
        "id": "XZO4XxIo7B_-",
        "outputId": "f9fde782-0eee-45ce-f089-6b66b0dc8b51",
        "colab": {
          "base_uri": "https://localhost:8080/",
          "height": 88
        }
      },
      "id": "XZO4XxIo7B_-",
      "execution_count": 71,
      "outputs": [
        {
          "output_type": "execute_result",
          "data": {
            "text/plain": [
              "\"Education is a cornerstone for societal progress and sustainable development. It enhances productivity, improving national economies by equipping individuals with valuable skills. Education is also a powerful tool for poverty reduction, enabling better employment opportunities and financial decision-making. It fosters cultural awareness and critical thinking, making societies more adaptable and tolerant. Moreover, education promotes social equality by providing equal opportunities, reducing class disparities, and ensuring a fairer environment. Investing in education is crucial for a nation's future, driving advancements in technology, science, and social development. Governments and communities must collaborate to ensure universal access to quality education for a brighter future.\""
            ],
            "application/vnd.google.colaboratory.intrinsic+json": {
              "type": "string"
            }
          },
          "metadata": {},
          "execution_count": 71
        }
      ]
    },
    {
      "cell_type": "code",
      "source": [
        "pip install langdetect\n"
      ],
      "metadata": {
        "id": "IhQDRWxI7agT",
        "outputId": "1c9e2047-bd6b-4359-e7e2-eb009039ea26",
        "colab": {
          "base_uri": "https://localhost:8080/"
        }
      },
      "id": "IhQDRWxI7agT",
      "execution_count": 73,
      "outputs": [
        {
          "output_type": "stream",
          "name": "stdout",
          "text": [
            "Collecting langdetect\n",
            "  Downloading langdetect-1.0.9.tar.gz (981 kB)\n",
            "\u001b[2K     \u001b[90m━━━━━━━━━━━━━━━━━━━━━━━━━━━━━━━━━━━━━━━━\u001b[0m \u001b[32m981.5/981.5 kB\u001b[0m \u001b[31m10.8 MB/s\u001b[0m eta \u001b[36m0:00:00\u001b[0m\n",
            "\u001b[?25h  Preparing metadata (setup.py) ... \u001b[?25l\u001b[?25hdone\n",
            "Requirement already satisfied: six in /usr/local/lib/python3.11/dist-packages (from langdetect) (1.17.0)\n",
            "Building wheels for collected packages: langdetect\n",
            "  Building wheel for langdetect (setup.py) ... \u001b[?25l\u001b[?25hdone\n",
            "  Created wheel for langdetect: filename=langdetect-1.0.9-py3-none-any.whl size=993222 sha256=6a29d11c85038380761f2e7eeaa737d6a725dacded35af4a112b60482e232ea7\n",
            "  Stored in directory: /root/.cache/pip/wheels/0a/f2/b2/e5ca405801e05eb7c8ed5b3b4bcf1fcabcd6272c167640072e\n",
            "Successfully built langdetect\n",
            "Installing collected packages: langdetect\n",
            "Successfully installed langdetect-1.0.9\n"
          ]
        }
      ]
    },
    {
      "cell_type": "code",
      "source": [
        "from langdetect import detect\n",
        "\n",
        "# Function to detect language and summarize accordingly\n",
        "def summarize_text(text):\n",
        "    # Detect the language of the input text\n",
        "    detected_language = detect(text)\n",
        "\n",
        "    # Check if the detected language is Arabic or English\n",
        "    if detected_language == \"ar\":\n",
        "        language_instruction = \"الرجاء تلخيص النص التالي بشكل موجز مع الحفاظ على الأفكار الرئيسية والتفاصيل الهامة. تأكد من أن الملخص واضح ومتماسك ولا يتجاوز {word_limit} كلمة أو {word_limit / len(text.split()) * 100}% من طول النص الأصلي. ركز على الحفاظ على المواضيع المركزية مثل أهمية التعليم في تقدم المجتمعات والنمو الاقتصادي والحد من الفقر وتعزيز الوعي الثقافي والمساواة الاجتماعية وأهمية الاستثمار في التعليم.\"\n",
        "    else:\n",
        "        language_instruction = f\"Please summarize the following text concisely while preserving the key ideas and essential details. Ensure the summary is clear, coherent, and does not exceed {word_limit} words or {word_limit / len(text.split()) * 100}% of the original text's length. Focus on maintaining the central themes like the importance of education in societal progress, economic growth, poverty reduction, cultural awareness, social equality, and the need for investment in education.\"\n",
        "\n",
        "    # Now call the Mistral model for summarization\n",
        "    chat_response = client.chat.complete(\n",
        "        model=model,\n",
        "        messages=[\n",
        "            {\n",
        "                \"role\": \"user\",\n",
        "                \"content\": f\"{language_instruction}\\n\\n{text}\",\n",
        "            },\n",
        "        ]\n",
        "    )\n",
        "    return chat_response\n",
        "\n",
        "# Get input text from the user\n",
        "text = input(\"Enter your text: \")\n",
        "word_limit = 150  # Set the desired word limit or percentage here\n",
        "\n",
        "# Call the summarize function\n",
        "summary = summarize_text(text)\n",
        "print(summary)\n"
      ],
      "metadata": {
        "id": "01K8_3Uw7D_8",
        "outputId": "92cc9b34-d23b-4029-d533-b81467922530",
        "colab": {
          "base_uri": "https://localhost:8080/"
        }
      },
      "id": "01K8_3Uw7D_8",
      "execution_count": 74,
      "outputs": [
        {
          "output_type": "stream",
          "name": "stdout",
          "text": [
            "Enter your text: أهمية التعليم في بناء المجتمعات  يُعتبر التعليم أحد الركائز الأساسية التي تعتمد عليها المجتمعات للنهوض والتقدم. فهو ليس مجرد وسيلة لاكتساب المعرفة، بل هو أداة فعّالة لتحقيق التنمية المستدامة، والحد من الفقر، وتعزيز الوعي والثقافة.  دور التعليم في التنمية الاقتصادية  يساهم التعليم في رفع مستوى الإنتاجية لدى الأفراد، مما يؤدي إلى تحسين الاقتصاد الوطني. فالأفراد المتعلمون يمتلكون المهارات والمعرفة اللازمة لشغل وظائف ذات قيمة مضافة، مما ينعكس إيجابيًا على معدلات النمو الاقتصادي والاستقرار المالي للمجتمع.  التعليم والحد من الفقر  يعد التعليم أحد أكثر الوسائل فعالية لمكافحة الفقر، حيث يوفر للأفراد فرصًا أفضل للعمل ويحسن من مستوى دخلهم. فالأشخاص الذين يتمتعون بتعليم جيد يكونون أكثر قدرة على اتخاذ قرارات مالية سليمة، مما يقلل من مخاطر الوقوع في الفقر.  تعزيز الوعي والثقافة  يساهم التعليم في نشر الوعي والثقافة داخل المجتمع، حيث يعمل على توسيع آفاق الأفراد وتنمية قدراتهم النقدية. فالمجتمعات المتعلمة تكون أكثر قدرة على التكيف مع التغيرات السريعة في العالم، كما تعزز قيم التسامح والتعايش المشترك.  التعليم والمساواة الاجتماعية  يعد التعليم أداة قوية لتعزيز المساواة بين الجنسين وتحقيق العدالة الاجتماعية. فمن خلال توفير فرص تعليمية متكافئة للجميع، يمكن الحد من التفاوت الطبقي وتحقيق بيئة أكثر إنصافًا وعدلاً.  الاستثمار في التعليم  إن الاستثمار في التعليم هو استثمار في مستقبل الأمة. فالدول التي تولي التعليم اهتمامًا خاصًا تتمكن من تحقيق تقدم ملحوظ في شتى المجالات، بدءًا من التكنولوجيا والعلوم، وصولًا إلى التنمية الاجتماعية والاقتصادية.  الخاتمة  التعليم هو المفتاح الرئيسي لتقدم المجتمعات، ومن خلال توفير بيئة تعليمية جيدة ومناسبة للجميع، يمكن تحقيق مستقبل أكثر إشراقًا. لذلك، يجب على الحكومات والمجتمعات العمل معًا لضمان وصول التعليم إلى الجميع وتحسين جودته بشكل مستمر.\n",
            "id='8a36c01f9d034f7cafe62d15c9a8a174' object='chat.completion' model='mistral-large-latest' usage=UsageInfo(prompt_tokens=1767, completion_tokens=567, total_tokens=2334) created=1739829676 choices=[ChatCompletionChoice(index=0, message=AssistantMessage(content='التعليم هو ركيزة أساسية لتقدم المجتمعات وتحقيق التنمية المستدامة. يساهم في رفع الإنتاجية وتحسين الاقتصاد الوطني بفضل المهارات والمعرفة التي يوفرها. كما يُعتبر وسيلة فعالة لمكافحة الفقر عن طريق توفير فرص عمل أفضل وتحسين مستوى الدخل. يعمل التعليم أيضًا على نشر الوعي والثقافة، مما يساعد المجتمعات على التكيف مع التغيرات السريعة وتعزيز قيم التسامح. يُعد التعليم أداة قوية لتحقيق المساواة الاجتماعية وتقليل التفاوت الطبقي. الاستثمار في التعليم هو استثمار في مستقبل الأمة، حيث تتمكن الدول التي تولي التعليم اهتمامًا خاصًا من تحقيق تقدم ملحوظ في شتى المجالات. يجب على الحكومات والمجتمعات العمل معًا لضمان وصول التعليم إلى الجميع وتحسين جودته بشكل مستمر.', tool_calls=None, prefix=False, role='assistant'), finish_reason='stop')]\n"
          ]
        }
      ]
    },
    {
      "cell_type": "code",
      "source": [
        "len(text)"
      ],
      "metadata": {
        "id": "E8K_CquR8CVN",
        "outputId": "700595aa-47bf-48ae-ad33-d910c17f71d7",
        "colab": {
          "base_uri": "https://localhost:8080/"
        }
      },
      "id": "E8K_CquR8CVN",
      "execution_count": 81,
      "outputs": [
        {
          "output_type": "execute_result",
          "data": {
            "text/plain": [
              "1676"
            ]
          },
          "metadata": {},
          "execution_count": 81
        }
      ]
    },
    {
      "cell_type": "code",
      "source": [
        "print(summary.choices[0].message.content)"
      ],
      "metadata": {
        "id": "X-YP519q7nep",
        "outputId": "74b23088-09a9-4f3d-8f43-a2cc975d097b",
        "colab": {
          "base_uri": "https://localhost:8080/"
        }
      },
      "id": "X-YP519q7nep",
      "execution_count": 79,
      "outputs": [
        {
          "output_type": "stream",
          "name": "stdout",
          "text": [
            "التعليم هو ركيزة أساسية لتقدم المجتمعات وتحقيق التنمية المستدامة. يساهم في رفع الإنتاجية وتحسين الاقتصاد الوطني بفضل المهارات والمعرفة التي يوفرها. كما يُعتبر وسيلة فعالة لمكافحة الفقر عن طريق توفير فرص عمل أفضل وتحسين مستوى الدخل. يعمل التعليم أيضًا على نشر الوعي والثقافة، مما يساعد المجتمعات على التكيف مع التغيرات السريعة وتعزيز قيم التسامح. يُعد التعليم أداة قوية لتحقيق المساواة الاجتماعية وتقليل التفاوت الطبقي. الاستثمار في التعليم هو استثمار في مستقبل الأمة، حيث تتمكن الدول التي تولي التعليم اهتمامًا خاصًا من تحقيق تقدم ملحوظ في شتى المجالات. يجب على الحكومات والمجتمعات العمل معًا لضمان وصول التعليم إلى الجميع وتحسين جودته بشكل مستمر.\n"
          ]
        }
      ]
    },
    {
      "cell_type": "code",
      "source": [
        "len(summary.choices[0].message.content)"
      ],
      "metadata": {
        "id": "ns3N23Wk7rMo",
        "outputId": "bba7c340-2ad3-4c55-d020-15deb905f862",
        "colab": {
          "base_uri": "https://localhost:8080/"
        }
      },
      "id": "ns3N23Wk7rMo",
      "execution_count": 80,
      "outputs": [
        {
          "output_type": "execute_result",
          "data": {
            "text/plain": [
              "647"
            ]
          },
          "metadata": {},
          "execution_count": 80
        }
      ]
    },
    {
      "cell_type": "code",
      "source": [
        "from langdetect import detect\n",
        "\n",
        "# Function to detect language and summarize accordingly\n",
        "def summarize_text(text):\n",
        "    # Detect the language of the input text\n",
        "    detected_language = detect(text)\n",
        "\n",
        "    # Check if the detected language is Arabic or English\n",
        "    if detected_language == \"ar\":\n",
        "        language_instruction = \"الرجاء تلخيص النص التالي بشكل موجز مع الحفاظ على الأفكار الرئيسية والتفاصيل الهامة. تأكد من أن الملخص واضح ومتماسك ولا يتجاوز {word_limit} كلمة أو {word_limit / len(text.split()) * 100}% من طول النص الأصلي. ركز على الحفاظ على المواضيع المركزية مثل أهمية التعليم في تقدم المجتمعات والنمو الاقتصادي والحد من الفقر وتعزيز الوعي الثقافي والمساواة الاجتماعية وأهمية الاستثمار في التعليم.\"\n",
        "    else:\n",
        "        language_instruction = f\"Please summarize the following text concisely while preserving the key ideas and essential details. Ensure the summary is clear, coherent, and does not exceed {word_limit} words or {word_limit / len(text.split()) * 100}% of the original text's length. Focus on maintaining the central themes like the importance of education in societal progress, economic growth, poverty reduction, cultural awareness, social equality, and the need for investment in education.\"\n",
        "\n",
        "    # Now call the Mistral model for summarization\n",
        "    chat_response = client.chat.complete(\n",
        "        model=model,\n",
        "        messages=[\n",
        "            {\n",
        "                \"role\": \"user\",\n",
        "                \"content\": f\"{language_instruction}\\n\\n{text}\",\n",
        "            },\n",
        "        ]\n",
        "    )\n",
        "    return chat_response\n",
        "\n",
        "# Get input text from the user\n",
        "text = input(\"Enter your text: \")\n",
        "word_limit = 150  # Set the desired word limit or percentage here\n",
        "\n",
        "# Call the summarize function\n",
        "summary = summarize_text(text)\n",
        "print(summary)\n"
      ],
      "metadata": {
        "id": "FnKRNG6D8B2y",
        "outputId": "8ab5a74e-0993-4b9b-8728-db012994a219",
        "colab": {
          "base_uri": "https://localhost:8080/"
        }
      },
      "id": "FnKRNG6D8B2y",
      "execution_count": 82,
      "outputs": [
        {
          "output_type": "stream",
          "name": "stdout",
          "text": [
            "Enter your text: The Importance of Education in Society  Education is the cornerstone of any thriving society. It serves as the foundation upon which individuals build their knowledge, skills, and critical thinking abilities. Through education, people gain the necessary tools to contribute effectively to their communities and drive progress in various fields.  Education and Economic Growth  One of the most significant benefits of education is its impact on economic development. Educated individuals are more likely to secure well-paying jobs, leading to improved living standards and economic stability. Nations with higher literacy rates tend to experience greater economic growth and innovation, as an educated workforce is essential for technological advancements and entrepreneurship.  Social Development and Equality  Education fosters social inclusion and equality by providing opportunities for people of all backgrounds. It promotes awareness of social issues, encourages diversity, and helps bridge the gap between different socioeconomic groups. Furthermore, education empowers individuals to advocate for their rights, leading to a more just and equitable society.  Personal Growth and Critical Thinking  Beyond professional benefits, education plays a crucial role in personal development. It nurtures critical thinking skills, creativity, and problem-solving abilities. Educated individuals are better equipped to make informed decisions, analyze situations objectively, and engage in meaningful discussions that contribute to societal progress.  Health and Well-being  Education has a direct impact on health and well-being. Studies show that educated individuals tend to lead healthier lifestyles, make better healthcare decisions, and have increased awareness of hygiene and disease prevention. Additionally, education helps reduce child mortality rates and improves maternal health by providing access to essential knowledge and resources.  Conclusion  Education is a powerful tool that transforms individuals and societies. It fosters economic growth, promotes social equality, enhances critical thinking, and improves overall well-being. Investing in education is investing in a better future for individuals and the world at large. Governments, institutions, and communities must prioritize access to quality education to ensure a prosperous and equitable society for future generations.\n",
            "id='2d8c696a27d24beab3a2a8f40222c51b' object='chat.completion' model='mistral-large-latest' usage=UsageInfo(prompt_tokens=538, completion_tokens=99, total_tokens=637) created=1739829866 choices=[ChatCompletionChoice(index=0, message=AssistantMessage(content='Education is vital for societal progress, economic growth, and personal development. It empowers individuals to secure better jobs, driving economic stability and innovation. Education promotes social equality, fosters critical thinking, and enhances health and well-being. It reduces child mortality and improves maternal health. To ensure a prosperous and equitable future, governments and communities must invest in quality education. This investment is crucial for economic growth, social inclusion, and overall societal progress.', tool_calls=None, prefix=False, role='assistant'), finish_reason='stop')]\n"
          ]
        }
      ]
    },
    {
      "cell_type": "code",
      "source": [
        "len(text)"
      ],
      "metadata": {
        "id": "Z3hJjSlu8S6H",
        "outputId": "72583e5c-34a1-43bb-aa4f-cfef8ac6c66b",
        "colab": {
          "base_uri": "https://localhost:8080/"
        }
      },
      "id": "Z3hJjSlu8S6H",
      "execution_count": 84,
      "outputs": [
        {
          "output_type": "execute_result",
          "data": {
            "text/plain": [
              "2395"
            ]
          },
          "metadata": {},
          "execution_count": 84
        }
      ]
    },
    {
      "cell_type": "code",
      "source": [
        "text"
      ],
      "metadata": {
        "id": "Rf18B3Qi8ZOE",
        "outputId": "85fab96d-a1d5-4e0a-e83a-1e64e0bbfbe4",
        "colab": {
          "base_uri": "https://localhost:8080/",
          "height": 105
        }
      },
      "id": "Rf18B3Qi8ZOE",
      "execution_count": 86,
      "outputs": [
        {
          "output_type": "execute_result",
          "data": {
            "text/plain": [
              "'The Importance of Education in Society  Education is the cornerstone of any thriving society. It serves as the foundation upon which individuals build their knowledge, skills, and critical thinking abilities. Through education, people gain the necessary tools to contribute effectively to their communities and drive progress in various fields.  Education and Economic Growth  One of the most significant benefits of education is its impact on economic development. Educated individuals are more likely to secure well-paying jobs, leading to improved living standards and economic stability. Nations with higher literacy rates tend to experience greater economic growth and innovation, as an educated workforce is essential for technological advancements and entrepreneurship.  Social Development and Equality  Education fosters social inclusion and equality by providing opportunities for people of all backgrounds. It promotes awareness of social issues, encourages diversity, and helps bridge the gap between different socioeconomic groups. Furthermore, education empowers individuals to advocate for their rights, leading to a more just and equitable society.  Personal Growth and Critical Thinking  Beyond professional benefits, education plays a crucial role in personal development. It nurtures critical thinking skills, creativity, and problem-solving abilities. Educated individuals are better equipped to make informed decisions, analyze situations objectively, and engage in meaningful discussions that contribute to societal progress.  Health and Well-being  Education has a direct impact on health and well-being. Studies show that educated individuals tend to lead healthier lifestyles, make better healthcare decisions, and have increased awareness of hygiene and disease prevention. Additionally, education helps reduce child mortality rates and improves maternal health by providing access to essential knowledge and resources.  Conclusion  Education is a powerful tool that transforms individuals and societies. It fosters economic growth, promotes social equality, enhances critical thinking, and improves overall well-being. Investing in education is investing in a better future for individuals and the world at large. Governments, institutions, and communities must prioritize access to quality education to ensure a prosperous and equitable society for future generations.'"
            ],
            "application/vnd.google.colaboratory.intrinsic+json": {
              "type": "string"
            }
          },
          "metadata": {},
          "execution_count": 86
        }
      ]
    },
    {
      "cell_type": "code",
      "source": [
        "print (summary.choices[0].message.content)"
      ],
      "metadata": {
        "id": "kA5hbSWX8U1X",
        "outputId": "bffc4d87-be6f-4d40-f3c1-82fcba892e44",
        "colab": {
          "base_uri": "https://localhost:8080/"
        }
      },
      "id": "kA5hbSWX8U1X",
      "execution_count": 85,
      "outputs": [
        {
          "output_type": "stream",
          "name": "stdout",
          "text": [
            "Education is vital for societal progress, economic growth, and personal development. It empowers individuals to secure better jobs, driving economic stability and innovation. Education promotes social equality, fosters critical thinking, and enhances health and well-being. It reduces child mortality and improves maternal health. To ensure a prosperous and equitable future, governments and communities must invest in quality education. This investment is crucial for economic growth, social inclusion, and overall societal progress.\n"
          ]
        }
      ]
    },
    {
      "cell_type": "code",
      "source": [
        "len(summary.choices[0].message.content)"
      ],
      "metadata": {
        "id": "YJDV0d_18RWd",
        "outputId": "5ef18298-4f1d-4ad0-ca75-56e6ffd73058",
        "colab": {
          "base_uri": "https://localhost:8080/"
        }
      },
      "id": "YJDV0d_18RWd",
      "execution_count": 83,
      "outputs": [
        {
          "output_type": "execute_result",
          "data": {
            "text/plain": [
              "534"
            ]
          },
          "metadata": {},
          "execution_count": 83
        }
      ]
    },
    {
      "cell_type": "code",
      "source": [],
      "metadata": {
        "id": "WyUrRoN19AYL"
      },
      "id": "WyUrRoN19AYL",
      "execution_count": null,
      "outputs": []
    },
    {
      "cell_type": "code",
      "source": [],
      "metadata": {
        "id": "xKRM2JQX9AVB"
      },
      "id": "xKRM2JQX9AVB",
      "execution_count": null,
      "outputs": []
    },
    {
      "cell_type": "code",
      "source": [],
      "metadata": {
        "id": "gZIV3qbf9ASC"
      },
      "id": "gZIV3qbf9ASC",
      "execution_count": null,
      "outputs": []
    },
    {
      "cell_type": "markdown",
      "source": [
        "# last improvement"
      ],
      "metadata": {
        "id": "T_rgSo-v9ldS"
      },
      "id": "T_rgSo-v9ldS"
    },
    {
      "cell_type": "code",
      "source": [
        "from langdetect import detect\n",
        "\n",
        "# Function to detect language and summarize accordingly\n",
        "def summarize_text(text):\n",
        "    # Detect the language of the input text\n",
        "    detected_language = detect(text)\n",
        "\n",
        "    # Check if the detected language is Arabic or English\n",
        "    if detected_language == \"ar\":\n",
        "        language_instruction = \"الرجاء تلخيص النص التالي بشكل موجز مع الحفاظ على الأفكار الرئيسية والتفاصيل الهامة. تأكد من أن الملخص واضح ومتماسك ولا يتجاوز {word_limit} كلمة أو {word_limit / len(text.split()) * 100}% من طول النص الأصلي. ركز على الحفاظ على المواضيع المركزية مثل أهمية التعليم في تقدم المجتمعات والنمو الاقتصادي والحد من الفقر وتعزيز الوعي الثقافي والمساواة الاجتماعية وأهمية الاستثمار في التعليم.\"\n",
        "    else:\n",
        "        language_instruction = f\"Please summarize the following text concisely while preserving the key ideas and essential details. Ensure the summary is clear, coherent, and does not exceed {word_limit} words or {word_limit / len(text.split()) * 100}% of the original text's length. Focus on maintaining the central themes such as the role of education in societal progress, economic growth, social equality, health, and personal development. The summary should emphasize the need for investing in quality education for a prosperous and equitable future. Make sure the summary has a smooth flow between the ideas while staying concise and informative. Here's the text:\\n{text}\"\n",
        "\n",
        "    # Now call the Mistral model for summarization\n",
        "    chat_response = client.chat.complete(\n",
        "        model=model,\n",
        "        messages=[\n",
        "            {\n",
        "                \"role\": \"user\",\n",
        "                \"content\": f\"{language_instruction}\\n\\n{text}\",\n",
        "            },\n",
        "        ]\n",
        "    )\n",
        "    return chat_response\n",
        "\n",
        "# Get input text from the user\n",
        "text = input(\"Enter your text: \")\n",
        "word_limit = 150  # Set the desired word limit or percentage here\n",
        "\n",
        "\n"
      ],
      "metadata": {
        "id": "HkbSqOXZ88p5",
        "outputId": "22d092e5-51a9-42e8-b762-ab2cbee29b89",
        "colab": {
          "base_uri": "https://localhost:8080/"
        }
      },
      "id": "HkbSqOXZ88p5",
      "execution_count": 87,
      "outputs": [
        {
          "name": "stdout",
          "output_type": "stream",
          "text": [
            "Enter your text: أهمية التعليم في بناء المجتمعات  يُعتبر التعليم أحد الركائز الأساسية التي تعتمد عليها المجتمعات للنهوض والتقدم. فهو ليس مجرد وسيلة لاكتساب المعرفة، بل هو أداة فعّالة لتحقيق التنمية المستدامة، والحد من الفقر، وتعزيز الوعي والثقافة.  دور التعليم في التنمية الاقتصادية  يساهم التعليم في رفع مستوى الإنتاجية لدى الأفراد، مما يؤدي إلى تحسين الاقتصاد الوطني. فالأفراد المتعلمون يمتلكون المهارات والمعرفة اللازمة لشغل وظائف ذات قيمة مضافة، مما ينعكس إيجابيًا على معدلات النمو الاقتصادي والاستقرار المالي للمجتمع.  التعليم والحد من الفقر  يعد التعليم أحد أكثر الوسائل فعالية لمكافحة الفقر، حيث يوفر للأفراد فرصًا أفضل للعمل ويحسن من مستوى دخلهم. فالأشخاص الذين يتمتعون بتعليم جيد يكونون أكثر قدرة على اتخاذ قرارات مالية سليمة، مما يقلل من مخاطر الوقوع في الفقر.  تعزيز الوعي والثقافة  يساهم التعليم في نشر الوعي والثقافة داخل المجتمع، حيث يعمل على توسيع آفاق الأفراد وتنمية قدراتهم النقدية. فالمجتمعات المتعلمة تكون أكثر قدرة على التكيف مع التغيرات السريعة في العالم، كما تعزز قيم التسامح والتعايش المشترك.  التعليم والمساواة الاجتماعية  يعد التعليم أداة قوية لتعزيز المساواة بين الجنسين وتحقيق العدالة الاجتماعية. فمن خلال توفير فرص تعليمية متكافئة للجميع، يمكن الحد من التفاوت الطبقي وتحقيق بيئة أكثر إنصافًا وعدلاً.  الاستثمار في التعليم  إن الاستثمار في التعليم هو استثمار في مستقبل الأمة. فالدول التي تولي التعليم اهتمامًا خاصًا تتمكن من تحقيق تقدم ملحوظ في شتى المجالات، بدءًا من التكنولوجيا والعلوم، وصولًا إلى التنمية الاجتماعية والاقتصادية.  الخاتمة  التعليم هو المفتاح الرئيسي لتقدم المجتمعات، ومن خلال توفير بيئة تعليمية جيدة ومناسبة للجميع، يمكن تحقيق مستقبل أكثر إشراقًا. لذلك، يجب على الحكومات والمجتمعات العمل معًا لضمان وصول التعليم إلى الجميع وتحسين جودته بشكل مستمر.\n"
          ]
        }
      ]
    },
    {
      "cell_type": "code",
      "source": [
        "len(text)"
      ],
      "metadata": {
        "id": "MaWoBEcw9TwV",
        "outputId": "7cb79807-4894-4640-89df-79a786209e1a",
        "colab": {
          "base_uri": "https://localhost:8080/"
        }
      },
      "id": "MaWoBEcw9TwV",
      "execution_count": 91,
      "outputs": [
        {
          "output_type": "execute_result",
          "data": {
            "text/plain": [
              "1676"
            ]
          },
          "metadata": {},
          "execution_count": 91
        }
      ]
    },
    {
      "cell_type": "code",
      "source": [
        "# Call the summarize function\n",
        "summary = summarize_text(text)\n",
        "print(summary)"
      ],
      "metadata": {
        "id": "D0XExOfw9RCO",
        "outputId": "55824eac-bf15-40b7-9725-a0b2cb80be38",
        "colab": {
          "base_uri": "https://localhost:8080/"
        }
      },
      "id": "D0XExOfw9RCO",
      "execution_count": 89,
      "outputs": [
        {
          "output_type": "stream",
          "name": "stdout",
          "text": [
            "id='9383715e58654de0bda88cf8dccec786' object='chat.completion' model='mistral-large-latest' usage=UsageInfo(prompt_tokens=1767, completion_tokens=611, total_tokens=2378) created=1739830138 choices=[ChatCompletionChoice(index=0, message=AssistantMessage(content='التعليم هو ركيزة أساسية لتقدم المجتمعات وتحقيق التنمية المستدامة. يساهم التعليم في رفع مستوى الإنتاجية وتحسين الاقتصاد الوطني من خلال توفير المهارات والمعرفة اللازمة لشغل وظائف ذات قيمة مضافة. كما يعد التعليم أداة فعالة لمكافحة الفقر وتحسين مستوى الدخل لدى الأفراد. يعمل التعليم أيضًا على نشر الوعي والثقافة، مما يساعد المجتمعات على التكيف مع التغيرات السريعة وتعزيز قيم التسامح. يساهم التعليم في تحقيق المساواة الاجتماعية والعدالة من خلال توفير فرص تعليمية متكافئة. الاستثمار في التعليم هو استثمار في مستقبل الأمة، حيث تتمكن الدول التي تولي التعليم اهتمامًا خاصًا من تحقيق تقدم ملحوظ في مختلف المجالات. لذلك، يجب على الحكومات والمجتمعات العمل معًا لضمان وصول التعليم إلى الجميع وتحسين جودته بشكل مستمر.', tool_calls=None, prefix=False, role='assistant'), finish_reason='stop')]\n"
          ]
        }
      ]
    },
    {
      "cell_type": "code",
      "source": [
        "len(summary.choices[0].message.content)"
      ],
      "metadata": {
        "id": "aWDQw4xZ88mp",
        "outputId": "04543815-a0ec-40c4-b16d-079499a30706",
        "colab": {
          "base_uri": "https://localhost:8080/"
        }
      },
      "id": "aWDQw4xZ88mp",
      "execution_count": 90,
      "outputs": [
        {
          "output_type": "execute_result",
          "data": {
            "text/plain": [
              "703"
            ]
          },
          "metadata": {},
          "execution_count": 90
        }
      ]
    },
    {
      "cell_type": "code",
      "source": [
        "print (summary.choices[0].message.content)"
      ],
      "metadata": {
        "id": "yvW_aPjU88jP",
        "outputId": "1527988f-c595-4573-a7ba-38a1d2508da6",
        "colab": {
          "base_uri": "https://localhost:8080/"
        }
      },
      "id": "yvW_aPjU88jP",
      "execution_count": 92,
      "outputs": [
        {
          "output_type": "stream",
          "name": "stdout",
          "text": [
            "التعليم هو ركيزة أساسية لتقدم المجتمعات وتحقيق التنمية المستدامة. يساهم التعليم في رفع مستوى الإنتاجية وتحسين الاقتصاد الوطني من خلال توفير المهارات والمعرفة اللازمة لشغل وظائف ذات قيمة مضافة. كما يعد التعليم أداة فعالة لمكافحة الفقر وتحسين مستوى الدخل لدى الأفراد. يعمل التعليم أيضًا على نشر الوعي والثقافة، مما يساعد المجتمعات على التكيف مع التغيرات السريعة وتعزيز قيم التسامح. يساهم التعليم في تحقيق المساواة الاجتماعية والعدالة من خلال توفير فرص تعليمية متكافئة. الاستثمار في التعليم هو استثمار في مستقبل الأمة، حيث تتمكن الدول التي تولي التعليم اهتمامًا خاصًا من تحقيق تقدم ملحوظ في مختلف المجالات. لذلك، يجب على الحكومات والمجتمعات العمل معًا لضمان وصول التعليم إلى الجميع وتحسين جودته بشكل مستمر.\n"
          ]
        }
      ]
    },
    {
      "cell_type": "markdown",
      "source": [
        "# english"
      ],
      "metadata": {
        "id": "GoGZeL-j9qI_"
      },
      "id": "GoGZeL-j9qI_"
    },
    {
      "cell_type": "code",
      "source": [
        "from langdetect import detect\n",
        "\n",
        "# Function to detect language and summarize accordingly\n",
        "def summarize_text(text):\n",
        "    # Detect the language of the input text\n",
        "    detected_language = detect(text)\n",
        "\n",
        "    # Check if the detected language is Arabic or English\n",
        "    if detected_language == \"ar\":\n",
        "        language_instruction = \"الرجاء تلخيص النص التالي بشكل موجز مع الحفاظ على الأفكار الرئيسية والتفاصيل الهامة. تأكد من أن الملخص واضح ومتماسك ولا يتجاوز {word_limit} كلمة أو {word_limit / len(text.split()) * 100}% من طول النص الأصلي. ركز على الحفاظ على المواضيع المركزية مثل أهمية التعليم في تقدم المجتمعات والنمو الاقتصادي والحد من الفقر وتعزيز الوعي الثقافي والمساواة الاجتماعية وأهمية الاستثمار في التعليم.\"\n",
        "    else:\n",
        "        language_instruction = f\"Please summarize the following text concisely while preserving the key ideas and essential details. Ensure the summary is clear, coherent, and does not exceed {word_limit} words or {word_limit / len(text.split()) * 100}% of the original text's length. Focus on maintaining the central themes such as the role of education in societal progress, economic growth, social equality, health, and personal development. The summary should emphasize the need for investing in quality education for a prosperous and equitable future. Make sure the summary has a smooth flow between the ideas while staying concise and informative. Here's the text:\\n{text}\"\n",
        "\n",
        "    # Now call the Mistral model for summarization\n",
        "    chat_response = client.chat.complete(\n",
        "        model=model,\n",
        "        messages=[\n",
        "            {\n",
        "                \"role\": \"user\",\n",
        "                \"content\": f\"{language_instruction}\\n\\n{text}\",\n",
        "            },\n",
        "        ]\n",
        "    )\n",
        "    return chat_response\n",
        "\n",
        "# Get input text from the user\n",
        "text = input(\"Enter your text: \")\n",
        "word_limit = 150  # Set the desired word limit or percentage here\n",
        "\n",
        "\n"
      ],
      "metadata": {
        "colab": {
          "base_uri": "https://localhost:8080/"
        },
        "id": "0o6TX3cI9b3a",
        "outputId": "0a0c1c4c-ca2d-4819-83d5-c1840b35f69d"
      },
      "id": "0o6TX3cI9b3a",
      "execution_count": 93,
      "outputs": [
        {
          "name": "stdout",
          "output_type": "stream",
          "text": [
            "Enter your text: The Importance of Education in Society  Education is the cornerstone of any thriving society. It serves as the foundation upon which individuals build their knowledge, skills, and critical thinking abilities. Through education, people gain the necessary tools to contribute effectively to their communities and drive progress in various fields.  Education and Economic Growth  One of the most significant benefits of education is its impact on economic development. Educated individuals are more likely to secure well-paying jobs, leading to improved living standards and economic stability. Nations with higher literacy rates tend to experience greater economic growth and innovation, as an educated workforce is essential for technological advancements and entrepreneurship.  Social Development and Equality  Education fosters social inclusion and equality by providing opportunities for people of all backgrounds. It promotes awareness of social issues, encourages diversity, and helps bridge the gap between different socioeconomic groups. Furthermore, education empowers individuals to advocate for their rights, leading to a more just and equitable society.  Personal Growth and Critical Thinking  Beyond professional benefits, education plays a crucial role in personal development. It nurtures critical thinking skills, creativity, and problem-solving abilities. Educated individuals are better equipped to make informed decisions, analyze situations objectively, and engage in meaningful discussions that contribute to societal progress.  Health and Well-being  Education has a direct impact on health and well-being. Studies show that educated individuals tend to lead healthier lifestyles, make better healthcare decisions, and have increased awareness of hygiene and disease prevention. Additionally, education helps reduce child mortality rates and improves maternal health by providing access to essential knowledge and resources.  Conclusion  Education is a powerful tool that transforms individuals and societies. It fosters economic growth, promotes social equality, enhances critical thinking, and improves overall well-being. Investing in education is investing in a better future for individuals and the world at large. Governments, institutions, and communities must prioritize access to quality education to ensure a prosperous and equitable society for future generations.\n"
          ]
        }
      ]
    },
    {
      "cell_type": "code",
      "source": [
        "# Call the summarize function\n",
        "summary = summarize_text(text)\n",
        "print(summary)"
      ],
      "metadata": {
        "id": "CG7b_yQb900x",
        "outputId": "e37f69a6-b89c-4120-bcd0-97a327558b98",
        "colab": {
          "base_uri": "https://localhost:8080/"
        }
      },
      "id": "CG7b_yQb900x",
      "execution_count": 94,
      "outputs": [
        {
          "output_type": "stream",
          "name": "stdout",
          "text": [
            "id='da4594cbdf5944fc9b95fefe55c7430c' object='chat.completion' model='mistral-large-latest' usage=UsageInfo(prompt_tokens=1011, completion_tokens=144, total_tokens=1155) created=1739830284 choices=[ChatCompletionChoice(index=0, message=AssistantMessage(content='Education is vital for societal progress, economic growth, and personal development. It equips individuals with knowledge, skills, and critical thinking, driving community progress and innovation. Economically, education leads to well-paying jobs, economic stability, and national growth. It promotes social equality by offering opportunities to all, encouraging diversity, and empowering rights advocacy. Education also fosters personal growth, nurturing critical thinking, creativity, and informed decision-making. Moreover, it improves health and well-being through better lifestyles, healthcare decisions, and disease prevention. To ensure a prosperous future, governments and communities must prioritize access to quality education, investing in a more equitable world.', tool_calls=None, prefix=False, role='assistant'), finish_reason='stop')]\n"
          ]
        }
      ]
    },
    {
      "cell_type": "code",
      "source": [
        "len(text)"
      ],
      "metadata": {
        "id": "SBmD4RAF94Db",
        "outputId": "be214846-d365-45b8-98a4-537bb37bb428",
        "colab": {
          "base_uri": "https://localhost:8080/"
        }
      },
      "id": "SBmD4RAF94Db",
      "execution_count": 96,
      "outputs": [
        {
          "output_type": "execute_result",
          "data": {
            "text/plain": [
              "2395"
            ]
          },
          "metadata": {},
          "execution_count": 96
        }
      ]
    },
    {
      "cell_type": "code",
      "source": [
        "len(summary.choices[0].message.content)"
      ],
      "metadata": {
        "id": "GqTkS_xN93Jh",
        "outputId": "793fa5e3-a05e-4fea-bf3c-e04d5b2fe52a",
        "colab": {
          "base_uri": "https://localhost:8080/"
        }
      },
      "id": "GqTkS_xN93Jh",
      "execution_count": 95,
      "outputs": [
        {
          "output_type": "execute_result",
          "data": {
            "text/plain": [
              "774"
            ]
          },
          "metadata": {},
          "execution_count": 95
        }
      ]
    },
    {
      "cell_type": "code",
      "source": [
        "print (summary.choices[0].message.content)"
      ],
      "metadata": {
        "id": "tY_kA5Ar9sUb",
        "outputId": "903ccfe5-ba5b-4ec7-e41e-4d24b8aac230",
        "colab": {
          "base_uri": "https://localhost:8080/"
        }
      },
      "id": "tY_kA5Ar9sUb",
      "execution_count": 97,
      "outputs": [
        {
          "output_type": "stream",
          "name": "stdout",
          "text": [
            "Education is vital for societal progress, economic growth, and personal development. It equips individuals with knowledge, skills, and critical thinking, driving community progress and innovation. Economically, education leads to well-paying jobs, economic stability, and national growth. It promotes social equality by offering opportunities to all, encouraging diversity, and empowering rights advocacy. Education also fosters personal growth, nurturing critical thinking, creativity, and informed decision-making. Moreover, it improves health and well-being through better lifestyles, healthcare decisions, and disease prevention. To ensure a prosperous future, governments and communities must prioritize access to quality education, investing in a more equitable world.\n"
          ]
        }
      ]
    },
    {
      "cell_type": "markdown",
      "source": [
        "# Title summerization"
      ],
      "metadata": {
        "id": "1fpJt8TVCyr9"
      },
      "id": "1fpJt8TVCyr9"
    },
    {
      "cell_type": "code",
      "source": [
        "from langdetect import detect\n",
        "\n",
        "# Function to detect language and summarize accordingly\n",
        "def summarize_text(text):\n",
        "    # Detect the language of the input text\n",
        "    detected_language = detect(text)\n",
        "\n",
        "    # Set the word limit (can be customized)\n",
        "    word_limit = 150\n",
        "\n",
        "    # Extract the first line or the first few words as the title\n",
        "    title = text.split('\\n')[0]  # Assuming the title is the first line of the text\n",
        "\n",
        "    # Check if the detected language is Arabic or English\n",
        "    if detected_language == \"ar\":\n",
        "        language_instruction_text = f\"الرجاء تلخيص النص التالي بشكل موجز مع الحفاظ على الأفكار الرئيسية والتفاصيل الهامة. تأكد من أن الملخص واضح ومتماسك ولا يتجاوز {word_limit} كلمة أو {word_limit / len(text.split()) * 100}% من طول النص الأصلي. ركز على الحفاظ على المواضيع المركزية مثل أهمية التعليم في تقدم المجتمعات والنمو الاقتصادي والحد من الفقر وتعزيز الوعي الثقافي والمساواة الاجتماعية وأهمية الاستثمار في التعليم.\"\n",
        "\n",
        "        language_instruction_title = \"\"\"\n",
        "        الرجاء تلخيص عنوان النص التالي بشكل إبداعي وجذاب. يجب أن يكون العنوان موجزًا ولكنه يلفت الأنظار ويعكس جوهر الموضوع بشكل مبتكر. تأكد من أن العنوان يعبر عن أهمية الموضوع بطريقة تثير الفضول وتلفت الانتباه للقارئ. يجب أن يتضمن العنوان الكلمات الرئيسية التي تعبر عن التقدم المجتمعي، التنمية الاقتصادية، المساواة الاجتماعية، والوعي الثقافي، مع التركيز على الاستثمار في التعليم كعنصر أساسي لتحقيق مستقبل مشرق. اجعل العنوان متوازنًا بين الإبداع والوضوح.\n",
        "        \"\"\"\n",
        "\n",
        "    else:\n",
        "        language_instruction_text = f\"Please summarize the following text concisely while preserving the key ideas and essential details. Ensure the summary is clear, coherent, and does not exceed {word_limit} words or {word_limit / len(text.split()) * 100}% of the original text's length. Focus on maintaining the central themes such as the role of education in societal progress, economic growth, social equality, health, and personal development. The summary should emphasize the need for investing in quality education for a prosperous and equitable future. Make sure the summary has a smooth flow between the ideas while staying concise and informative. Here's the text:\\n{text}\"\n",
        "\n",
        "        language_instruction_title = \"Please summarize the title of the following text in a creative and engaging manner. The title should be concise yet attention-grabbing and reflect the core essence of the subject in an innovative way. Ensure the title conveys the importance of the topic in a way that sparks curiosity and captures the reader's attention. The title should include key terms that reflect societal progress, economic development, social equality, cultural awareness, and the importance of investing in education for a brighter future. Make the title a balance between creativity and clarity.\"\n",
        "\n",
        "    # Now call the Mistral model for title summarization\n",
        "    title_response = client.chat.complete(\n",
        "        model=model,\n",
        "        messages=[\n",
        "            {\n",
        "                \"role\": \"user\",\n",
        "                \"content\": f\"{language_instruction_title}\\n\\n{title}\",\n",
        "            },\n",
        "        ]\n",
        "    )\n",
        "\n",
        "    # Now call the Mistral model for text summarization\n",
        "    text_response = client.chat.complete(\n",
        "        model=model,\n",
        "        messages=[\n",
        "            {\n",
        "                \"role\": \"user\",\n",
        "                \"content\": f\"{language_instruction_text}\\n\\n{text}\",\n",
        "            },\n",
        "        ]\n",
        "    )\n",
        "\n",
        "    return title_response, text_response\n",
        "\n",
        "# Get input text from the user\n",
        "text = input(\"Enter your text: \")\n",
        "\n",
        "# Call the summarize_text function\n",
        "title_summary, text_summary = summarize_text(text)\n",
        "\n",
        "# Print the summary results\n",
        "print(\"Title Summary:\", title_summary)\n",
        "print(\"Text Summary:\", text_summary)\n"
      ],
      "metadata": {
        "id": "H-YQs3HWCyWi",
        "outputId": "e40ae905-b580-46f5-9ded-d39e0ac67d44",
        "colab": {
          "base_uri": "https://localhost:8080/"
        }
      },
      "id": "H-YQs3HWCyWi",
      "execution_count": 109,
      "outputs": [
        {
          "output_type": "stream",
          "name": "stdout",
          "text": [
            "Enter your text: The Importance of Education in Society  Education is the cornerstone of any thriving society. It serves as the foundation upon which individuals build their knowledge, skills, and critical thinking abilities. Through education, people gain the necessary tools to contribute effectively to their communities and drive progress in various fields.  Education and Economic Growth  One of the most significant benefits of education is its impact on economic development. Educated individuals are more likely to secure well-paying jobs, leading to improved living standards and economic stability. Nations with higher literacy rates tend to experience greater economic growth and innovation, as an educated workforce is essential for technological advancements and entrepreneurship.  Social Development and Equality  Education fosters social inclusion and equality by providing opportunities for people of all backgrounds. It promotes awareness of social issues, encourages diversity, and helps bridge the gap between different socioeconomic groups. Furthermore, education empowers individuals to advocate for their rights, leading to a more just and equitable society.  Personal Growth and Critical Thinking  Beyond professional benefits, education plays a crucial role in personal development. It nurtures critical thinking skills, creativity, and problem-solving abilities. Educated individuals are better equipped to make informed decisions, analyze situations objectively, and engage in meaningful discussions that contribute to societal progress.  Health and Well-being  Education has a direct impact on health and well-being. Studies show that educated individuals tend to lead healthier lifestyles, make better healthcare decisions, and have increased awareness of hygiene and disease prevention. Additionally, education helps reduce child mortality rates and improves maternal health by providing access to essential knowledge and resources.  Conclusion  Education is a powerful tool that transforms individuals and societies. It fosters economic growth, promotes social equality, enhances critical thinking, and improves overall well-being. Investing in education is investing in a better future for individuals and the world at large. Governments, institutions, and communities must prioritize access to quality education to ensure a prosperous and equitable society for future generations.\n",
            "Title Summary: id='87a9c73e1c9f4701b3f7550934ac7994' object='chat.completion' model='mistral-large-latest' usage=UsageInfo(prompt_tokens=549, completion_tokens=175, total_tokens=724) created=1739832606 choices=[ChatCompletionChoice(index=0, message=AssistantMessage(content='**\"Forging Futures: Education as the Catalyst for Economic Prosperity, Social Equality, and Cultural Enlightenment\"**\\n\\nAlternatives:\\n1. **\"Education: The Master Key to Economic Growth, Social Equality, and Cultural Flourishing\"**\\n2. **\"Investing in Tomorrow: Education for Economic Vitality, Social Justice, and Cultural Awareness\"**\\n3. **\"The Power of Learning: Driving Economic Development, Social Equality, and Cultural Progress\"**\\n4. **\"Education: The Bedrock of Thriving Economies, Equitable Societies, and Informed Citizens\"**\\n5. **\"Unlocking Potential: Education for a Prosperous, Equal, and Culturally Vibrant Future\"**', tool_calls=None, prefix=False, role='assistant'), finish_reason='stop')]\n",
            "Text Summary: id='4ca46af64a6c4280976837829ad8a0ec' object='chat.completion' model='mistral-large-latest' usage=UsageInfo(prompt_tokens=1011, completion_tokens=119, total_tokens=1130) created=1739832612 choices=[ChatCompletionChoice(index=0, message=AssistantMessage(content='Education is vital for societal progress and individual growth. It drives economic development by preparing people for well-paying jobs, boosting living standards, and stimulating innovation. Education promotes social equality by offering opportunities to all, encouraging diversity, and empowering individuals to advocate for their rights. It also enhances personal growth by cultivating critical thinking, creativity, and informed decision-making. Furthermore, education improves health and well-being through better lifestyle choices and increased awareness of disease prevention. To ensure a prosperous and equitable future, governments and communities must invest in quality education.', tool_calls=None, prefix=False, role='assistant'), finish_reason='stop')]\n"
          ]
        }
      ]
    },
    {
      "cell_type": "code",
      "source": [
        "print (title_summary.choices[0].message.content)"
      ],
      "metadata": {
        "id": "KyJlq-zQCySR",
        "outputId": "f86169dc-cc80-48b5-8acc-ee7dff9c2e2d",
        "colab": {
          "base_uri": "https://localhost:8080/"
        }
      },
      "id": "KyJlq-zQCySR",
      "execution_count": 110,
      "outputs": [
        {
          "output_type": "stream",
          "name": "stdout",
          "text": [
            "**\"Forging Futures: Education as the Catalyst for Economic Prosperity, Social Equality, and Cultural Enlightenment\"**\n",
            "\n",
            "Alternatives:\n",
            "1. **\"Education: The Master Key to Economic Growth, Social Equality, and Cultural Flourishing\"**\n",
            "2. **\"Investing in Tomorrow: Education for Economic Vitality, Social Justice, and Cultural Awareness\"**\n",
            "3. **\"The Power of Learning: Driving Economic Development, Social Equality, and Cultural Progress\"**\n",
            "4. **\"Education: The Bedrock of Thriving Economies, Equitable Societies, and Informed Citizens\"**\n",
            "5. **\"Unlocking Potential: Education for a Prosperous, Equal, and Culturally Vibrant Future\"**\n"
          ]
        }
      ]
    },
    {
      "cell_type": "code",
      "source": [
        "len(text)"
      ],
      "metadata": {
        "id": "Yublr5MoEl_k",
        "outputId": "91ff3fe3-7f1b-4618-df46-04f96af25a01",
        "colab": {
          "base_uri": "https://localhost:8080/"
        }
      },
      "id": "Yublr5MoEl_k",
      "execution_count": 111,
      "outputs": [
        {
          "output_type": "execute_result",
          "data": {
            "text/plain": [
              "2395"
            ]
          },
          "metadata": {},
          "execution_count": 111
        }
      ]
    },
    {
      "cell_type": "code",
      "source": [
        "len(text_summary.choices[0].message.content)"
      ],
      "metadata": {
        "id": "1vUzSMFOEpUa",
        "outputId": "5f6a53b8-6ace-40d3-db64-7ee7d19362da",
        "colab": {
          "base_uri": "https://localhost:8080/"
        }
      },
      "id": "1vUzSMFOEpUa",
      "execution_count": 112,
      "outputs": [
        {
          "output_type": "execute_result",
          "data": {
            "text/plain": [
              "690"
            ]
          },
          "metadata": {},
          "execution_count": 112
        }
      ]
    },
    {
      "cell_type": "code",
      "source": [
        "print (text_summary.choices[0].message.content)"
      ],
      "metadata": {
        "id": "xNKdqZUXCyOq",
        "outputId": "a4bc06d3-4819-4ca9-f08e-b9cc019928eb",
        "colab": {
          "base_uri": "https://localhost:8080/"
        }
      },
      "id": "xNKdqZUXCyOq",
      "execution_count": 113,
      "outputs": [
        {
          "output_type": "stream",
          "name": "stdout",
          "text": [
            "Education is vital for societal progress and individual growth. It drives economic development by preparing people for well-paying jobs, boosting living standards, and stimulating innovation. Education promotes social equality by offering opportunities to all, encouraging diversity, and empowering individuals to advocate for their rights. It also enhances personal growth by cultivating critical thinking, creativity, and informed decision-making. Furthermore, education improves health and well-being through better lifestyle choices and increased awareness of disease prevention. To ensure a prosperous and equitable future, governments and communities must invest in quality education.\n"
          ]
        }
      ]
    },
    {
      "cell_type": "code",
      "source": [],
      "metadata": {
        "id": "UfXtDEK4EP2W"
      },
      "id": "UfXtDEK4EP2W",
      "execution_count": null,
      "outputs": []
    },
    {
      "cell_type": "code",
      "source": [],
      "metadata": {
        "id": "PYpqfNh-EPzR"
      },
      "id": "PYpqfNh-EPzR",
      "execution_count": null,
      "outputs": []
    },
    {
      "cell_type": "code",
      "source": [],
      "metadata": {
        "id": "a9FVS9XbEPwG"
      },
      "id": "a9FVS9XbEPwG",
      "execution_count": null,
      "outputs": []
    }
  ],
  "metadata": {
    "colab": {
      "provenance": []
    },
    "kernelspec": {
      "display_name": "Python 3 (ipykernel)",
      "language": "python",
      "name": "python3"
    },
    "language_info": {
      "codemirror_mode": {
        "name": "ipython",
        "version": 3
      },
      "file_extension": ".py",
      "mimetype": "text/x-python",
      "name": "python",
      "nbconvert_exporter": "python",
      "pygments_lexer": "ipython3",
      "version": "3.11.8"
    }
  },
  "nbformat": 4,
  "nbformat_minor": 5
}